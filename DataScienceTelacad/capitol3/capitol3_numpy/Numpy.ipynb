{
 "cells": [
  {
   "cell_type": "markdown",
   "id": "8df5da6e-0698-47df-9286-7033504ca09f",
   "metadata": {},
   "source": [
    "IMPORTAREA BIBLIOTECII"
   ]
  },
  {
   "cell_type": "code",
   "execution_count": 1,
   "id": "a9a67c41-73ef-48da-8ff8-bafbe2762e58",
   "metadata": {},
   "outputs": [],
   "source": [
    "import numpy as np"
   ]
  },
  {
   "cell_type": "markdown",
   "id": "4e79d830-d2f7-40ba-8a21-6050dce38993",
   "metadata": {},
   "source": [
    "CREAREA MATRICILOR"
   ]
  },
  {
   "cell_type": "code",
   "execution_count": 8,
   "id": "dc897603-2c18-4e41-bafb-3a11c9eae985",
   "metadata": {},
   "outputs": [
    {
     "data": {
      "text/plain": [
       "array([1, 2, 3, 4])"
      ]
     },
     "execution_count": 8,
     "metadata": {},
     "output_type": "execute_result"
    }
   ],
   "source": [
    "#creare printr-o lista de tuplu\n",
    "\n",
    "my_list = [1,2,3,4]\n",
    "my_array = np.array(my_list)\n",
    "my_array"
   ]
  },
  {
   "cell_type": "code",
   "execution_count": 9,
   "id": "d8363007-6d99-4f59-a696-f1659b4da1b7",
   "metadata": {},
   "outputs": [
    {
     "data": {
      "text/plain": [
       "array([0, 2, 4, 6, 8])"
      ]
     },
     "execution_count": 9,
     "metadata": {},
     "output_type": "execute_result"
    }
   ],
   "source": [
    "#creare prin frunctia arange care returneaza o matrice cu elemente uniform distantate\n",
    "\n",
    "#np.arange(start, stop, step, dtype=None), interval [start; stop)\n",
    "#start = prima valoare\n",
    "#stop = ultima valoare\n",
    "#step = pas\n",
    "#dtype = tipul elementelor matricei de iesire\n",
    "np.arange(7)\n",
    "np.arange(2,7)\n",
    "np.arange(1,7,2)\n",
    "np.arange(start = 0, stop = 10, step = 2, dtype = None)"
   ]
  },
  {
   "cell_type": "code",
   "execution_count": 12,
   "id": "f632c23a-bc85-49a7-aaee-dbdfe4664b80",
   "metadata": {},
   "outputs": [
    {
     "data": {
      "text/plain": [
       "array([ 0. ,  2.5,  5. ,  7.5, 10. ])"
      ]
     },
     "execution_count": 12,
     "metadata": {},
     "output_type": "execute_result"
    }
   ],
   "source": [
    "#similar np.arange este np.linspace care se foloseste de numarul de elemente din interval\n",
    "np.linspace(0,10,5)"
   ]
  },
  {
   "cell_type": "code",
   "execution_count": 16,
   "id": "6c92debe-1896-47fe-a3dd-3e5a382e1a14",
   "metadata": {},
   "outputs": [
    {
     "data": {
      "text/plain": [
       "array([[0., 0., 0.],\n",
       "       [0., 0., 0.],\n",
       "       [0., 0., 0.],\n",
       "       [0., 0., 0.]])"
      ]
     },
     "execution_count": 16,
     "metadata": {},
     "output_type": "execute_result"
    }
   ],
   "source": [
    "#matrice de zerouri de dimensiuni date\n",
    "np.zeros(4) # 1 linie cu 4 coloane\n",
    "np.zeros([4, 3]) # 4 linii cu 3 coloane"
   ]
  },
  {
   "cell_type": "code",
   "execution_count": 19,
   "id": "67b439bb-f60b-44b4-a507-febd75bb92c9",
   "metadata": {},
   "outputs": [
    {
     "data": {
      "text/plain": [
       "array([[1., 1., 1.],\n",
       "       [1., 1., 1.],\n",
       "       [1., 1., 1.],\n",
       "       [1., 1., 1.]])"
      ]
     },
     "execution_count": 19,
     "metadata": {},
     "output_type": "execute_result"
    }
   ],
   "source": [
    "#matrice de 1 cu dimensiuni date\n",
    "np.ones(4)\n",
    "np.ones([4,3])"
   ]
  },
  {
   "cell_type": "code",
   "execution_count": 20,
   "id": "b44dc0f0-5d9c-4fe9-a4d8-54e9036da250",
   "metadata": {},
   "outputs": [
    {
     "data": {
      "text/plain": [
       "array([[1., 0., 0., 0., 0.],\n",
       "       [0., 1., 0., 0., 0.],\n",
       "       [0., 0., 1., 0., 0.],\n",
       "       [0., 0., 0., 1., 0.],\n",
       "       [0., 0., 0., 0., 1.]])"
      ]
     },
     "execution_count": 20,
     "metadata": {},
     "output_type": "execute_result"
    }
   ],
   "source": [
    "#matericea identitate de dimensiune data\n",
    "np.eye(5)\n"
   ]
  },
  {
   "cell_type": "code",
   "execution_count": 30,
   "id": "0cc4eefa-8b00-42d4-a48e-f6459fc3b86e",
   "metadata": {},
   "outputs": [
    {
     "data": {
      "text/plain": [
       "array([10,  2,  3,  4])"
      ]
     },
     "execution_count": 30,
     "metadata": {},
     "output_type": "execute_result"
    }
   ],
   "source": [
    "#crearea unei matrice prin copierea alteia existente\n",
    "a = np.array([1,2,3,4])\n",
    "b = np.copy(a)\n",
    "a[0] = 10\n",
    "b = np.copy(a)\n",
    "a\n",
    "b"
   ]
  },
  {
   "cell_type": "markdown",
   "id": "44329af7-9d28-45a5-9589-330f4656a96d",
   "metadata": {},
   "source": [
    "DIMENSIUNEA MATRICILOR"
   ]
  },
  {
   "cell_type": "code",
   "execution_count": 40,
   "id": "0b374dcb-1d9f-4d7d-bb88-4891ddb4c5e8",
   "metadata": {},
   "outputs": [
    {
     "data": {
      "text/plain": [
       "2"
      ]
     },
     "execution_count": 40,
     "metadata": {},
     "output_type": "execute_result"
    }
   ],
   "source": [
    "#aflarea dimensiunilor unei matrice\n",
    "a = np.array([1,2,3,4])\n",
    "b = np.array([ [1,2,3], [4,5,6] ])\n",
    "#a.ndim\n",
    "b.ndim"
   ]
  },
  {
   "cell_type": "code",
   "execution_count": 42,
   "id": "04fcbab2-688f-4a57-b3a6-5aebd507a82e",
   "metadata": {},
   "outputs": [
    {
     "data": {
      "text/plain": [
       "(2, 4)"
      ]
     },
     "execution_count": 42,
     "metadata": {},
     "output_type": "execute_result"
    }
   ],
   "source": [
    "#aflarea formei unei matrice\n",
    "a = np.array([1,2,3,4])\n",
    "a.shape\n",
    "\n",
    "b = np.array([[1,2,3,4], [5,6,7,8]])\n",
    "b.shape"
   ]
  },
  {
   "cell_type": "code",
   "execution_count": 55,
   "id": "84df17e5-39cb-4043-9118-bad23d236744",
   "metadata": {},
   "outputs": [
    {
     "data": {
      "text/plain": [
       "array([[1, 2, 3, 4],\n",
       "       [5, 6, 7, 8]])"
      ]
     },
     "execution_count": 55,
     "metadata": {},
     "output_type": "execute_result"
    }
   ],
   "source": [
    "#schimabrea formei unei matrici\n",
    "\n",
    "x = np.array([ [1,2,3,4], [5,6,7,8] ])\n",
    "x.reshape(4,2)\n",
    "#x.reshape(2,4)\n",
    "x"
   ]
  },
  {
   "cell_type": "code",
   "execution_count": 54,
   "id": "51acbbb4-83da-4e84-a6ff-f57f953007f2",
   "metadata": {},
   "outputs": [
    {
     "data": {
      "text/plain": [
       "8"
      ]
     },
     "execution_count": 54,
     "metadata": {},
     "output_type": "execute_result"
    }
   ],
   "source": [
    "#aflarea numarului de elemente dintr-o matrice\n",
    "a = np.array([1,2,3,4])\n",
    "a.size\n",
    "b = np.array([ [1,2,3,4], [5,6,7,8] ])\n",
    "b.size"
   ]
  },
  {
   "cell_type": "code",
   "execution_count": 59,
   "id": "212e926b-d648-434e-abf1-656d9dbde50e",
   "metadata": {},
   "outputs": [
    {
     "data": {
      "text/plain": [
       "array([[4, 8],\n",
       "       [6, 7],\n",
       "       [2, 9]])"
      ]
     },
     "execution_count": 59,
     "metadata": {},
     "output_type": "execute_result"
    }
   ],
   "source": [
    "#transpusa unei matrici\n",
    "a = np.array([ [4,6,2], [8,7,9] ])\n",
    "a.transpose()\n"
   ]
  },
  {
   "cell_type": "markdown",
   "id": "ab4e68ef-0e6e-4620-beb3-b27a84c23eea",
   "metadata": {},
   "source": [
    "INDEXING SI SLICING"
   ]
  },
  {
   "cell_type": "code",
   "execution_count": 64,
   "id": "8dad63cf-bdf5-493f-ba9e-b18bc4cc4e41",
   "metadata": {},
   "outputs": [
    {
     "name": "stdout",
     "output_type": "stream",
     "text": [
      "3\n",
      "7\n"
     ]
    }
   ],
   "source": [
    "#selectarea unui element dintr-o matrice\n",
    "a = np.array([1,2,3,4,5])\n",
    "print(a[2])\n",
    "\n",
    "b = np.array([[1,2,3,4], [5,6,7,8]])\n",
    "b[1]\n",
    "print(b[1][2])"
   ]
  },
  {
   "cell_type": "code",
   "execution_count": 65,
   "id": "91200016-c113-4792-a2e5-dd57dd7f63d6",
   "metadata": {},
   "outputs": [
    {
     "data": {
      "text/plain": [
       "array([2, 3, 4])"
      ]
     },
     "execution_count": 65,
     "metadata": {},
     "output_type": "execute_result"
    }
   ],
   "source": [
    "#selectarea unui interval dintr-o matrice\n",
    "a = np.array([1,2,3,4,5])\n",
    "a[1:4] # = elementele cu indecsii 1,2 si 3 pentru ca intervalul este [1,4)"
   ]
  },
  {
   "cell_type": "code",
   "execution_count": 71,
   "id": "27f252b5-9274-4924-9378-cff5f2b98760",
   "metadata": {},
   "outputs": [
    {
     "data": {
      "text/plain": [
       "array([3, 4, 5])"
      ]
     },
     "execution_count": 71,
     "metadata": {},
     "output_type": "execute_result"
    }
   ],
   "source": [
    "#selectarea unor elemente din matrice pe baza unei conditii\n",
    "a = np.arange(1,6)\n",
    "a[a>3]\n",
    "a[a>=3]"
   ]
  },
  {
   "cell_type": "code",
   "execution_count": 72,
   "id": "f7bdd9ca-0df7-4368-9511-151a93afcbfc",
   "metadata": {},
   "outputs": [
    {
     "data": {
      "text/plain": [
       "array([ 1, 10, 10,  4,  5])"
      ]
     },
     "execution_count": 72,
     "metadata": {},
     "output_type": "execute_result"
    }
   ],
   "source": [
    "#atribuirea de noi valori\n",
    "a = np.arange(1,6)\n",
    "a[1:3] = 10\n",
    "a"
   ]
  },
  {
   "cell_type": "markdown",
   "id": "81f7be36-d5d6-4ee1-b2ef-8d649aa30a48",
   "metadata": {},
   "source": [
    "OPERATII CU MATRICI"
   ]
  },
  {
   "cell_type": "code",
   "execution_count": 77,
   "id": "4da32f0f-743e-4afe-8eb7-06155d42d52a",
   "metadata": {},
   "outputs": [
    {
     "data": {
      "text/plain": [
       "array([[ 2,  4,  5,  6],\n",
       "       [ 5,  9,  8, 10]])"
      ]
     },
     "execution_count": 77,
     "metadata": {},
     "output_type": "execute_result"
    }
   ],
   "source": [
    "#adunarea matricilor\n",
    "a = np.array([ [1,3,4,5], [4,8,7,9] ])\n",
    "b = np.array([ [1,1,1,1], [1,1,1,1] ])\n",
    "\n",
    "np.add(a, 2) # = a+2\n",
    "np.add (a,b) # = a+b"
   ]
  },
  {
   "cell_type": "code",
   "execution_count": 80,
   "id": "7d6be42b-034a-4342-a002-c8004ef6b94c",
   "metadata": {},
   "outputs": [
    {
     "data": {
      "text/plain": [
       "array([[ 0,  1,  2,  4],\n",
       "       [-3, -3,  0,  1]])"
      ]
     },
     "execution_count": 80,
     "metadata": {},
     "output_type": "execute_result"
    }
   ],
   "source": [
    "#scadere\n",
    "a=np.array([[1,3,5,8],[2,3,7,9]])\n",
    "b=np.array([[1,2,3,4],[5,6,7,8]])\n",
    "\n",
    "np.subtract(a,1) # a-1\n",
    "np.subtract(a,b) # a-b"
   ]
  },
  {
   "cell_type": "code",
   "execution_count": 85,
   "id": "fa67f29a-c959-4837-91f0-0cc2e0e1e6ff",
   "metadata": {},
   "outputs": [
    {
     "data": {
      "text/plain": [
       "array([[       1,        9,      125,     4096],\n",
       "       [      32,      729,   823543, 43046721]])"
      ]
     },
     "execution_count": 85,
     "metadata": {},
     "output_type": "execute_result"
    }
   ],
   "source": [
    "#inmultire\n",
    "a=np.array([[1,3,5,8],[2,3,7,9]])\n",
    "b=np.array([[1,2,3,4],[5,6,7,8]])\n",
    "\n",
    "np.multiply(a,2) # = a*2\n",
    "np.multiply(a,b) # = a*b element cu element\n",
    "a ** b # element din a la puterea element din b de pe aceeasi pozitie"
   ]
  },
  {
   "cell_type": "markdown",
   "id": "5eaa73d6-674c-41e1-8446-cf3590b4a1ab",
   "metadata": {},
   "source": [
    "FUNCTII AGREGAT SI STATISTICE"
   ]
  },
  {
   "cell_type": "code",
   "execution_count": 88,
   "id": "915ed88b-0098-46da-ac2c-14b6740b2d27",
   "metadata": {},
   "outputs": [
    {
     "name": "stdout",
     "output_type": "stream",
     "text": [
      "38\n"
     ]
    }
   ],
   "source": [
    "#suma elementelor din matrice\n",
    "a=np.array([[1,3,5,8],[2,3,7,9]])\n",
    "print(a.sum())"
   ]
  },
  {
   "cell_type": "code",
   "execution_count": 90,
   "id": "a495b929-cb43-40da-9ae8-fdac10f76a49",
   "metadata": {},
   "outputs": [
    {
     "name": "stdout",
     "output_type": "stream",
     "text": [
      "4.75\n"
     ]
    }
   ],
   "source": [
    "#media elementelor unei matrice\n",
    "a=np.array([[1,3,5,8],[2,3,7,9]])\n",
    "print(a.mean())"
   ]
  },
  {
   "cell_type": "code",
   "execution_count": 91,
   "id": "e3c0fabe-c103-45d1-8aae-d3d5cdc05a6e",
   "metadata": {},
   "outputs": [
    {
     "data": {
      "text/plain": [
       "np.float64(2.7726341266023544)"
      ]
     },
     "execution_count": 91,
     "metadata": {},
     "output_type": "execute_result"
    }
   ],
   "source": [
    "#calcul deviatie standard a tuturor elementelor\n",
    "a=np.array([[1,3,5,8],[2,3,7,9]])\n",
    "a.std()"
   ]
  },
  {
   "cell_type": "code",
   "execution_count": 92,
   "id": "9a642a10-b483-48af-920f-7e0a8becf999",
   "metadata": {},
   "outputs": [
    {
     "data": {
      "text/plain": [
       "np.int64(1)"
      ]
     },
     "execution_count": 92,
     "metadata": {},
     "output_type": "execute_result"
    }
   ],
   "source": [
    "#minimul elementelor\n",
    "a=np.array([[1,3,5,8],[2,3,7,9]])\n",
    "a.min()"
   ]
  },
  {
   "cell_type": "code",
   "execution_count": 93,
   "id": "0d487d7c-e932-4aa4-8476-7d6695a7f12d",
   "metadata": {},
   "outputs": [
    {
     "data": {
      "text/plain": [
       "np.int64(9)"
      ]
     },
     "execution_count": 93,
     "metadata": {},
     "output_type": "execute_result"
    }
   ],
   "source": [
    "#maximul elementelor\n",
    "a=np.array([[1,3,5,8],[2,3,7,9]])\n",
    "a.max()"
   ]
  },
  {
   "cell_type": "code",
   "execution_count": 96,
   "id": "8e2d2745-b0d2-4d6a-9c0e-1383c7074c95",
   "metadata": {},
   "outputs": [
    {
     "data": {
      "text/plain": [
       "array([ 3,  6, 12, 17])"
      ]
     },
     "execution_count": 96,
     "metadata": {},
     "output_type": "execute_result"
    }
   ],
   "source": [
    "#operatiile statistice se pot face si pe linii/coloane\n",
    "#axis -> pus ca paramentru pentru fiecare funtie statistica\n",
    "#axis = 1 -> pe linii\n",
    "#axis = 0 -> pe coloane\n",
    "a=np.array([[1,3,5,8],[2,3,7,9]])\n",
    "a.sum(axis = 1) #si apar sumele facute pe fiecare linie in parte\n",
    "a.sum(axis = 0) #si a[ar sumele facut pe fiecare coloana in parte\n"
   ]
  },
  {
   "cell_type": "code",
   "execution_count": null,
   "id": "e8bccb3f-5b9a-4b6e-938a-7cae6ecb6a63",
   "metadata": {},
   "outputs": [],
   "source": []
  },
  {
   "cell_type": "code",
   "execution_count": null,
   "id": "98023f4b-68a3-4a93-8d09-f3b4cacf0d15",
   "metadata": {},
   "outputs": [],
   "source": []
  },
  {
   "cell_type": "code",
   "execution_count": null,
   "id": "7515c962-a1b5-4230-b685-8433d4c01429",
   "metadata": {},
   "outputs": [],
   "source": []
  },
  {
   "cell_type": "code",
   "execution_count": null,
   "id": "06c7cdfd-1b91-442e-a454-0a4a87fc19fa",
   "metadata": {},
   "outputs": [],
   "source": []
  }
 ],
 "metadata": {
  "kernelspec": {
   "display_name": "Python 3 (ipykernel)",
   "language": "python",
   "name": "python3"
  },
  "language_info": {
   "codemirror_mode": {
    "name": "ipython",
    "version": 3
   },
   "file_extension": ".py",
   "mimetype": "text/x-python",
   "name": "python",
   "nbconvert_exporter": "python",
   "pygments_lexer": "ipython3",
   "version": "3.11.0"
  }
 },
 "nbformat": 4,
 "nbformat_minor": 5
}
